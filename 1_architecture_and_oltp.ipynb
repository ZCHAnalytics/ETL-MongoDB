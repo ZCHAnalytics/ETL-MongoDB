{
 "cells": [
  {
   "cell_type": "markdown",
   "metadata": {},
   "source": [
    "# Data Platform Architecture and OLTP Database for an e-commerce company\n",
    "Scenario: Design a data platform that uses MySQL as an OLTP database. \n",
    "- Use MySQL to store the OLTP data. \n",
    "- Describe the architecture of a data analytics platform.\n",
    "- Design the schema for an OLTP database.\n",
    "- Load data into the OLTP database.\n",
    "- Automate database administration tasks.\n",
    "\n",
    "Three exercises with multiple tasks. \n",
    "1. Design the schema for the OLTP database by storing data like row ID, product ID, customer ID, price, quantity, and time stamp of sale.\n",
    "2. Load  data into the OLTP database by importing the data in the downloaded file and then listing the tables in the database. You will also write a query to find out the count of records in the tables. \n",
    "3. Automate admin tasks by creating an index on the timestamp field and listing all the indexes of salesdata table . Write a bash script that exports records created in the table into another file. "
   ]
  },
  {
   "cell_type": "markdown",
   "metadata": {},
   "source": [
    "## OLTP database requirements and design\n",
    "OLTP database is generally used to handle every day business transactions of an organization like a bank or a super market chain. OLTP databases can be write heavy or may have a balanced read/write load.\n",
    "\n",
    "OLTP database requirements:\n",
    "An OLTP database is expected to handle a huge number of transactions per second. Each transaction usually involves accessing (read/write) a small portion of the database, in other words the payload per transaction is small.\n",
    "\n",
    "The time taken to execute a transaction usually called latency needs to be very less.\n",
    "\n",
    "OLTP database design:\n",
    "The schema of an OLTP database is higly normalized so as to achieve a very low latency. To further improve the latency an OLTP database stores only the recent data like the last few week's data. They are usually run on storage that is very fast like SSD."
   ]
  }
 ],
 "metadata": {
  "language_info": {
   "name": "python"
  }
 },
 "nbformat": 4,
 "nbformat_minor": 2
}
