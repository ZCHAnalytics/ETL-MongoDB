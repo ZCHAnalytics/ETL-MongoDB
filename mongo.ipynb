{
 "cells": [
  {
   "cell_type": "code",
   "execution_count": null,
   "metadata": {},
   "outputs": [],
   "source": []
  },
  {
   "cell_type": "markdown",
   "metadata": {},
   "source": [
    "Module Introduction\n",
    "In this module, you will design a data platform that uses MongoDB as a NoSQL database. You will use MongoDB to store the e-commerce catalog data. \n",
    "\n",
    "Learning Objectives\n",
    "Import data into a MongoDB database.\n",
    "Query data in a MongoDB database.\n",
    "Export data from MongoDB."
   ]
  }
 ],
 "metadata": {
  "language_info": {
   "name": "python"
  }
 },
 "nbformat": 4,
 "nbformat_minor": 2
}
