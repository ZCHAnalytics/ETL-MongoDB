{
 "cells": [
  {
   "cell_type": "code",
   "execution_count": null,
   "metadata": {},
   "outputs": [],
   "source": []
  },
  {
   "cell_type": "markdown",
   "metadata": {},
   "source": [
    "install the couchimport and couchexport tools.\n",
    "\n",
    "Cassandra and Mongodb running in a Docker container. You will also need an instance of Cloudant running in IBM Cloud.\n",
    "\n",
    "- install the mongoimport and mongoexport tools.\n",
    "- export data from a Cloudant database.\n",
    "- import data into a Cloudant database.\n",
    "- export data from a MongoDB database.\n",
    "- import data into a MongoDB database.\n",
    "- export data from a Cassandra database.\n",
    "- import data into a Cassandra database.\n",
    "- create indexes on a Cassandra database."
   ]
  }
 ],
 "metadata": {
  "language_info": {
   "name": "python"
  }
 },
 "nbformat": 4,
 "nbformat_minor": 2
}
