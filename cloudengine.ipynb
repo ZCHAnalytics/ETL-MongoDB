{
 "cells": [
  {
   "cell_type": "markdown",
   "metadata": {},
   "source": [
    "# Data Engineering Lifecycle\n",
    "Business challenge that requires building a data platform for retailer data analytics.\n"
   ]
  },
  {
   "cell_type": "markdown",
   "metadata": {},
   "source": [
    "Project: \n",
    "- Collect and understand data from multiple sources.\n",
    "- Design a database and data warehouse.\n",
    "- Analyze the data and create a dashboard.\n",
    "- Extract data from OLTP, NoSQL, and MongoDB databases, transform it, and load it into the data warehouse.\n",
    "- Create an ETL pipeline and deploy machine learning models. "
   ]
  },
  {
   "cell_type": "markdown",
   "metadata": {},
   "source": [
    "## Module 1 - Data Platform Architecture and OLTP Database\n",
    "Design the OLTP database for an E-Commerce website, populate the OLTP Database with the provided data, and automate the export of the daily incremental data into the data warehouse.\n",
    "\n",
    "- OLTP Database\n",
    "- OLTP Database Requirements and Design\n"
   ]
  },
  {
   "cell_type": "markdown",
   "metadata": {},
   "source": [
    "Module 2 - Querying Data in NoSQL Databases\n",
    "Querying data in NoSQL databases\n"
   ]
  },
  {
   "cell_type": "markdown",
   "metadata": {},
   "source": [
    "Module 3 - Build a Data Warehouse\n",
    "\n",
    "- Data Warehousing\n",
    "- Data Warehousing Reporting"
   ]
  },
  {
   "cell_type": "markdown",
   "metadata": {},
   "source": []
  },
  {
   "cell_type": "markdown",
   "metadata": {},
   "source": [
    "Module 4 - Data Analytics\n",
    "\n",
    "Cognos Dashboard Embedded (Optional)\n",
    "Dashboard Creation"
   ]
  },
  {
   "cell_type": "markdown",
   "metadata": {},
   "source": [
    "# Module 5 - ETL & Data Pipelines\n",
    "ETL & Data Pipelines using Apache Airflow"
   ]
  },
  {
   "cell_type": "markdown",
   "metadata": {},
   "source": []
  },
  {
   "cell_type": "markdown",
   "metadata": {},
   "source": [
    "# Module 6 - Big Data Analytics with Spark\n",
    "\n",
    "Big Data Analytics with Spark\n",
    "Saving and loading a SparkML model\n",
    "SparkML Ops"
   ]
  },
  {
   "cell_type": "markdown",
   "metadata": {},
   "source": [
    "\n",
    "\n",
    "\n",
    "In Module 2, you will set up a NoSQL database to store the catalog data for an E-Commerce website, load the E-Commerce catalog data into the NoSQL database, and query the E-Commerce catalog data in the NoSQL database.\n",
    "\n",
    "In Module 3, you will design the schema for a data warehouse based on the schema of the OLTP and NoSQL databases. You’ll then create the schema and load the data into fact and dimension tables, automate the daily incremental data insertion into the data warehouse and create Cubes and Rollups to make the reporting easier.\n",
    "\n",
    "In Module 4, you will create a Cognos data source that points to a data warehouse table, create a bar chart of Quarterly sales of cell phones, create a pie chart of sales of electronic goods by category, and create a line chart of total sales per month for the year 2020. \n",
    "\n",
    "In Module 5, you will extract data from OLTP, NoSQL, and MongoDB databases into CSV format. You will then transform the OLTP data to suit the data warehouse schema, and then load the transformed data into the data warehouse. Finally, you will verify that the data is loaded properly.\n",
    "\n",
    "In the sixth module, you will use your skills in Big Data Analytics to create a Spark connection to the data warehouse, and then deploy a machine learning model on SparkML for making sales projections."
   ]
  },
  {
   "cell_type": "markdown",
   "metadata": {},
   "source": [
    "Module 1:\n",
    "This document introduces you to the data platform architecture of an ecommerce company named SoftCart.\n",
    "\n",
    "SoftCart uses a hybrid architecture, with some of its databases on premises and some on cloud.\n",
    "\n",
    "Tools and Technologies:\n",
    "OLTP database - MySQL\n",
    "NoSql database - MongoDB\n",
    "Production Data warehouse – DB2 on Cloud\n",
    "Staging Data warehouse – PostgreSQL\n",
    "Big data platform - Hadoop\n",
    "Big data analytics platform – Spark\n",
    "Business Intelligence Dashboard - IBM Cognos Analytics\n",
    "Data Pipelines - Apache Airflow"
   ]
  }
 ],
 "metadata": {
  "language_info": {
   "name": "python"
  }
 },
 "nbformat": 4,
 "nbformat_minor": 2
}
