{
 "cells": [
  {
   "cell_type": "markdown",
   "metadata": {},
   "source": [
    "# Data Warehousing and Reporting\n",
    "PART 1 Data Warehousing \n",
    "## 1. Design a Data Warehouse using the pgAdmin ERD design tool\n",
    "## 2. Load data into Data Warehouse\n",
    "\n",
    "PART 2 Reporting \n",
    "## 3. Write aggregation queries\n",
    "## 4. Create Materialized Views/Tables (MQTs)"
   ]
  },
  {
   "cell_type": "markdown",
   "metadata": {},
   "source": [
    "PART 1\n",
    "\n",
    "Create an instance of IBM DB2 on the cloud \n",
    "\n",
    "design a data warehouse for the e-commerce company The company would like to have the ability to generate the report on a yearly, monthly, daily, and weekday basis.\n",
    "\n",
    "- designing a Star Schema for the warehouse by identifying the columns for the various dimension and fact tables in the schema. \n",
    "\n",
    "You will name your database as softcart and then use the ERD design tool to design the table softcartDimDate using fields such as DateID, Month, Monthname, and so on. \n",
    "\n",
    "The following tasks require you to design the dimension tables softcartDimCategory, softcartDimCountry, and softcartFactSales using the ERD design tool. \n",
    "\n",
    "Finally, you will use the ERD design tool to design the required relationships (one-to-one, one-to-many, and so on) amongst the tables. After performing each task, you will take a screenshot of the entire ERD clearly showing all the field names, data types, and relationships amongst the tables.\n",
    "\n",
    "In the second exercise, you will load the data into the data warehouse. Your senior Data Engineer has reviewed your design and made a few improvements to your schema design. The data as per the improved schema is available at a link. You will download the data and restore it into a database named staging using the pgAdmin tool. After performing this task, you will take a screenshot showing the success of data restoration."
   ]
  },
  {
   "cell_type": "markdown",
   "metadata": {},
   "source": []
  },
  {
   "cell_type": "markdown",
   "metadata": {},
   "source": []
  },
  {
   "cell_type": "markdown",
   "metadata": {},
   "source": []
  },
  {
   "cell_type": "markdown",
   "metadata": {},
   "source": []
  },
  {
   "cell_type": "markdown",
   "metadata": {},
   "source": [
    "PART 2\n",
    "Data Warehousing Reporting\n",
    "In this second part of the assignment, you will perform a couple of exercises. But before proceeding with the assignment, you will create an instance of IBM DB2 on the cloud by following the instructions given in the link provided. If you have already created an instance in previous labs, you can continue using that to perform the exercises. The first exercise requires you to load the data provided by the company into the tables in CSV format by performing a series of tasks. You will start by downloading the data from the links provided and then load that data into the DimDate table, DimCategory table, DimCountry table, and fact table FactSales. After loading the data, you will take a screenshot of the first five rows in each table and name the screenshot.\n",
    "\n",
    "In the second exercise, you will query the loaded data by creating a grouping sets query, rollup query, and cube query using the columns Orderid*, Category, and Price collected. Finally, you will create an MQT named Total_sales_per_country using the country and total sales columns. After performing each task, you will take a screenshot of the SQL and the output rows and then name the screenshot."
   ]
  },
  {
   "cell_type": "markdown",
   "metadata": {},
   "source": []
  }
 ],
 "metadata": {
  "language_info": {
   "name": "python"
  }
 },
 "nbformat": 4,
 "nbformat_minor": 2
}
